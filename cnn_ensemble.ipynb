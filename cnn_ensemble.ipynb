{
 "cells": [
  {
   "cell_type": "code",
   "execution_count": 4,
   "metadata": {},
   "outputs": [],
   "source": [
    "import pandas as pd\n",
    "import numpy as np\n",
    "import matplotlib.pyplot as plt\n",
    "import matplotlib.image as mpimg\n",
    "%matplotlib inline\n",
    "\n",
    "np.random.seed(2)\n",
    "\n",
    "from sklearn.model_selection import train_test_split\n",
    "from sklearn.metrics import confusion_matrix\n",
    "import itertools\n",
    "\n",
    "from keras.utils.np_utils import to_categorical # convert to one-hot-encoding\n",
    "from keras.models import Sequential\n",
    "from keras.layers import Dense, Dropout, Flatten, Conv2D, MaxPool2D\n",
    "from keras.optimizers import RMSprop\n",
    "from keras.preprocessing.image import ImageDataGenerator\n",
    "from keras.callbacks import ReduceLROnPlateau\n",
    "\n",
    "\n",
    "\n",
    "# Load the data\n",
    "train = pd.read_csv(\"train.csv\")\n",
    "test = pd.read_csv(\"test.csv\")\n",
    "\n",
    "Y_train = train[\"label\"]\n",
    "# Drop 'label' column\n",
    "X_train = train.drop(labels = [\"label\"],axis = 1) \n",
    "\n",
    "# free some space\n",
    "del train \n",
    "\n",
    "X_train = X_train / 255.0\n",
    "test = test / 255.0\n",
    "\n",
    "X_train = X_train.values.reshape(-1,28,28,1)\n",
    "test = test.values.reshape(-1,28,28,1)\n",
    "Y_train = to_categorical(Y_train, num_classes = 10)\n",
    "\n",
    "X_train, X_val, Y_train, Y_val = train_test_split(X_train, Y_train, test_size = 0.1)\n",
    "\n"
   ]
  },
  {
   "cell_type": "code",
   "execution_count": 24,
   "metadata": {},
   "outputs": [],
   "source": [
    "def build_model():\n",
    "    model = Sequential()\n",
    "\n",
    "    model.add(Conv2D(filters = 32, kernel_size = (5,5),padding = 'Same', \n",
    "                     activation ='relu', input_shape = (28,28,1)))\n",
    "    model.add(Conv2D(filters = 32, kernel_size = (5,5),padding = 'Same', \n",
    "                     activation ='relu'))\n",
    "    model.add(MaxPool2D(pool_size=(2,2)))\n",
    "    model.add(Dropout(0.25))\n",
    "\n",
    "\n",
    "    model.add(Conv2D(filters = 64, kernel_size = (3,3),padding = 'Same', \n",
    "                     activation ='relu'))\n",
    "    model.add(Conv2D(filters = 64, kernel_size = (3,3),padding = 'Same', \n",
    "                     activation ='relu'))\n",
    "    model.add(MaxPool2D(pool_size=(2,2), strides=(2,2)))\n",
    "    model.add(Dropout(0.25))\n",
    "\n",
    "\n",
    "    model.add(Flatten())\n",
    "    model.add(Dense(256, activation = \"relu\"))\n",
    "    model.add(Dropout(0.5))\n",
    "    model.add(Dense(10, activation = \"softmax\"))\n",
    "    return model\n",
    "    \n",
    "size_ensemble = 4\n",
    "models = []\n",
    "for i in range(0,size_ensemble):\n",
    "    model = build_model()\n",
    "    model.compile(optimizer = 'Nadam', loss = 'categorical_crossentropy', metrics = ['accuracy'])\n",
    "    models.append(model)"
   ]
  },
  {
   "cell_type": "code",
   "execution_count": null,
   "metadata": {},
   "outputs": [
    {
     "name": "stdout",
     "output_type": "stream",
     "text": [
      "Train on 37800 samples, validate on 4200 samples\n",
      "Epoch 1/5\n",
      "37800/37800 [==============================] - 238s - loss: 0.1240 - acc: 0.9617 - val_loss: 0.0734 - val_acc: 0.9762\n",
      "Epoch 2/5\n",
      "37800/37800 [==============================] - 236s - loss: 0.0643 - acc: 0.9810 - val_loss: 0.0554 - val_acc: 0.9850\n",
      "Epoch 3/5\n",
      "37800/37800 [==============================] - 237s - loss: 0.0518 - acc: 0.9839 - val_loss: 0.0500 - val_acc: 0.9857\n",
      "Epoch 4/5\n",
      "37800/37800 [==============================] - 244s - loss: 0.0472 - acc: 0.9862 - val_loss: 0.0900 - val_acc: 0.9738\n",
      "Epoch 5/5\n",
      "37800/37800 [==============================] - 243s - loss: 0.0405 - acc: 0.9874 - val_loss: 0.0482 - val_acc: 0.9869\n",
      "Train on 37800 samples, validate on 4200 samples\n",
      "Epoch 1/5\n",
      "37800/37800 [==============================] - 238s - loss: 0.2457 - acc: 0.9224 - val_loss: 0.0541 - val_acc: 0.9826\n",
      "Epoch 2/5\n",
      "37800/37800 [==============================] - 232s - loss: 0.0703 - acc: 0.9782 - val_loss: 0.0506 - val_acc: 0.9848\n",
      "Epoch 3/5\n",
      "37800/37800 [==============================] - 236s - loss: 0.0527 - acc: 0.9839 - val_loss: 0.0374 - val_acc: 0.9888\n",
      "Epoch 4/5\n",
      "37800/37800 [==============================] - 232s - loss: 0.0462 - acc: 0.9856 - val_loss: 0.0525 - val_acc: 0.9826\n",
      "Epoch 5/5\n",
      "37800/37800 [==============================] - 232s - loss: 0.0403 - acc: 0.9880 - val_loss: 0.0270 - val_acc: 0.9912\n",
      "Train on 37800 samples, validate on 4200 samples\n",
      "Epoch 1/5\n",
      "37800/37800 [==============================] - 250s - loss: 0.2599 - acc: 0.9185 - val_loss: 0.0721 - val_acc: 0.9779\n",
      "Epoch 2/5\n",
      "37800/37800 [==============================] - 252s - loss: 0.0750 - acc: 0.9773 - val_loss: 0.0527 - val_acc: 0.9857\n",
      "Epoch 3/5\n",
      "37800/37800 [==============================] - 11876s - loss: 0.0571 - acc: 0.9831 - val_loss: 0.0388 - val_acc: 0.9895\n",
      "Epoch 4/5\n",
      "20480/37800 [===============>..............] - ETA: 103s - loss: 0.0469 - acc: 0.9857"
     ]
    }
   ],
   "source": [
    "epochs = 5\n",
    "batch_size = 128\n",
    "for model in models:\n",
    "    model.fit(X_train,Y_train, batch_size,epochs=epochs,validation_data=(X_val,Y_val))"
   ]
  },
  {
   "cell_type": "code",
   "execution_count": null,
   "metadata": {
    "collapsed": true
   },
   "outputs": [],
   "source": [
    "# predict results\n",
    "results = None\n",
    "for model in models:\n",
    "    if results is None:\n",
    "        results = model.predict(test)\n",
    "    else:\n",
    "        results += model.predict(test)\n",
    "\n",
    "# select the indix with the maximum probability\n",
    "results = np.argmax(results,axis = 1)\n",
    "\n",
    "results = pd.Series(results,name=\"Label\")\n",
    "\n",
    "submission = pd.concat([pd.Series(range(1,28001),name = \"ImageId\"),results],axis = 1)\n",
    "submission.to_csv(\"cnn_mnist_datagen.csv\",index=False)"
   ]
  }
 ],
 "metadata": {
  "kernelspec": {
   "display_name": "Python 3",
   "language": "python",
   "name": "python3"
  },
  "language_info": {
   "codemirror_mode": {
    "name": "ipython",
    "version": 3
   },
   "file_extension": ".py",
   "mimetype": "text/x-python",
   "name": "python",
   "nbconvert_exporter": "python",
   "pygments_lexer": "ipython3",
   "version": "3.6.1"
  }
 },
 "nbformat": 4,
 "nbformat_minor": 2
}
